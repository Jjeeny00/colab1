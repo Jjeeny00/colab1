{
  "nbformat": 4,
  "nbformat_minor": 0,
  "metadata": {
    "colab": {
      "provenance": [],
      "mount_file_id": "1Ti30nvPR4ghDU2ikPEdxylrUww1_S63d",
      "authorship_tag": "ABX9TyMpDih84mCeVR0lDGK+Beow",
      "include_colab_link": true
    },
    "kernelspec": {
      "name": "python3",
      "display_name": "Python 3"
    },
    "language_info": {
      "name": "python"
    }
  },
  "cells": [
    {
      "cell_type": "markdown",
      "metadata": {
        "id": "view-in-github",
        "colab_type": "text"
      },
      "source": [
        "<a href=\"https://colab.research.google.com/github/Jjeeny00/colab1/blob/main/3_28_%EC%98%A4%ED%94%88%EC%86%8C%EC%8A%A4_%EC%88%98%EC%97%85.ipynb\" target=\"_parent\"><img src=\"https://colab.research.google.com/assets/colab-badge.svg\" alt=\"Open In Colab\"/></a>"
      ]
    },
    {
      "cell_type": "code",
      "execution_count": null,
      "metadata": {
        "id": "aOtkeNucc9n0"
      },
      "outputs": [],
      "source": []
    }
  ]
}